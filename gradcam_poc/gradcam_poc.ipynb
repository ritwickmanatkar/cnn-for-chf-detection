{
 "cells": [
  {
   "cell_type": "code",
   "execution_count": null,
   "id": "85237dca-9c7b-4757-9653-13efccbb85fe",
   "metadata": {},
   "outputs": [],
   "source": [
    "import pandas as pd\n",
    "import numpy as np\n",
    "\n",
    "from keras import optimizers, losses, activations, models\n",
    "from keras.callbacks import ModelCheckpoint, EarlyStopping, LearningRateScheduler, ReduceLROnPlateau\n",
    "from keras.layers import Dense, Input, Dropout, Convolution1D, MaxPool1D, GlobalMaxPool1D, GlobalAveragePooling1D, \\\n",
    "    concatenate\n",
    "from sklearn.metrics import f1_score, accuracy_score"
   ]
  },
  {
   "cell_type": "code",
   "execution_count": 2,
   "id": "2ffd0482-35ba-41f1-800e-e7cfd65614e0",
   "metadata": {},
   "outputs": [],
   "source": [
    "df_train = pd.read_csv(\"mitbih_train.csv\", header=None)\n",
    "df_train = df_train.sample(frac=1)\n",
    "df_test = pd.read_csv(\"mitbih_test.csv\", header=None)\n",
    "\n",
    "Y = np.array(df_train[187].values).astype(np.int8)\n",
    "X = np.array(df_train[list(range(187))].values)[..., np.newaxis]\n",
    "\n",
    "Y_test = np.array(df_test[187].values).astype(np.int8)\n",
    "X_test = np.array(df_test[list(range(187))].values)[..., np.newaxis]"
   ]
  },
  {
   "cell_type": "code",
   "execution_count": 5,
   "id": "a687497f-2069-4dc7-abbf-a218afcce8ac",
   "metadata": {},
   "outputs": [],
   "source": [
    "def get_model():\n",
    "    nclass = 5\n",
    "    inp = Input(shape=(187, 1))\n",
    "    img_1 = Convolution1D(16, kernel_size=5, activation=activations.relu, padding=\"valid\")(inp)\n",
    "    img_1 = Convolution1D(16, kernel_size=5, activation=activations.relu, padding=\"valid\")(img_1)\n",
    "    img_1 = MaxPool1D(pool_size=2)(img_1)\n",
    "    img_1 = Dropout(rate=0.1)(img_1)\n",
    "    img_1 = Convolution1D(32, kernel_size=3, activation=activations.relu, padding=\"valid\")(img_1)\n",
    "    img_1 = Convolution1D(32, kernel_size=3, activation=activations.relu, padding=\"valid\")(img_1)\n",
    "    img_1 = MaxPool1D(pool_size=2)(img_1)\n",
    "    img_1 = Dropout(rate=0.1)(img_1)\n",
    "    img_1 = Convolution1D(32, kernel_size=3, activation=activations.relu, padding=\"valid\")(img_1)\n",
    "    img_1 = Convolution1D(32, kernel_size=3, activation=activations.relu, padding=\"valid\")(img_1)\n",
    "    img_1 = MaxPool1D(pool_size=2)(img_1)\n",
    "    img_1 = Dropout(rate=0.1)(img_1)\n",
    "    img_1 = Convolution1D(256, kernel_size=3, activation=activations.relu, padding=\"valid\")(img_1)\n",
    "    img_1 = Convolution1D(256, kernel_size=3, activation=activations.relu, padding=\"valid\")(img_1)\n",
    "    img_1 = GlobalMaxPool1D()(img_1)\n",
    "    img_1 = Dropout(rate=0.2)(img_1)\n",
    "\n",
    "    dense_1 = Dense(64, activation=activations.relu, name=\"dense_1\")(img_1)\n",
    "    dense_1 = Dense(64, activation=activations.relu, name=\"dense_2\")(dense_1)\n",
    "    dense_1 = Dense(nclass, activation=activations.softmax, name=\"dense_3_mitbih\")(dense_1)\n",
    "\n",
    "    model = models.Model(inputs=inp, outputs=dense_1)\n",
    "    opt = optimizers.Adam(0.001)\n",
    "\n",
    "    model.compile(optimizer=opt, loss=losses.sparse_categorical_crossentropy, metrics=['acc'])\n",
    "    model.summary()\n",
    "    return model"
   ]
  },
  {
   "cell_type": "code",
   "execution_count": 6,
   "id": "75c2670b-12a4-4b85-9f26-fad012ea8cd3",
   "metadata": {},
   "outputs": [
    {
     "name": "stdout",
     "output_type": "stream",
     "text": [
      "Model: \"model\"\n",
      "_________________________________________________________________\n",
      " Layer (type)                Output Shape              Param #   \n",
      "=================================================================\n",
      " input_2 (InputLayer)        [(None, 187, 1)]          0         \n",
      "                                                                 \n",
      " conv1d_8 (Conv1D)           (None, 183, 16)           96        \n",
      "                                                                 \n",
      " conv1d_9 (Conv1D)           (None, 179, 16)           1296      \n",
      "                                                                 \n",
      " max_pooling1d_3 (MaxPoolin  (None, 89, 16)            0         \n",
      " g1D)                                                            \n",
      "                                                                 \n",
      " dropout_4 (Dropout)         (None, 89, 16)            0         \n",
      "                                                                 \n",
      " conv1d_10 (Conv1D)          (None, 87, 32)            1568      \n",
      "                                                                 \n",
      " conv1d_11 (Conv1D)          (None, 85, 32)            3104      \n",
      "                                                                 \n",
      " max_pooling1d_4 (MaxPoolin  (None, 42, 32)            0         \n",
      " g1D)                                                            \n",
      "                                                                 \n",
      " dropout_5 (Dropout)         (None, 42, 32)            0         \n",
      "                                                                 \n",
      " conv1d_12 (Conv1D)          (None, 40, 32)            3104      \n",
      "                                                                 \n",
      " conv1d_13 (Conv1D)          (None, 38, 32)            3104      \n",
      "                                                                 \n",
      " max_pooling1d_5 (MaxPoolin  (None, 19, 32)            0         \n",
      " g1D)                                                            \n",
      "                                                                 \n",
      " dropout_6 (Dropout)         (None, 19, 32)            0         \n",
      "                                                                 \n",
      " conv1d_14 (Conv1D)          (None, 17, 256)           24832     \n",
      "                                                                 \n",
      " conv1d_15 (Conv1D)          (None, 15, 256)           196864    \n",
      "                                                                 \n",
      " global_max_pooling1d_1 (Gl  (None, 256)               0         \n",
      " obalMaxPooling1D)                                               \n",
      "                                                                 \n",
      " dropout_7 (Dropout)         (None, 256)               0         \n",
      "                                                                 \n",
      " dense_1 (Dense)             (None, 64)                16448     \n",
      "                                                                 \n",
      " dense_2 (Dense)             (None, 64)                4160      \n",
      "                                                                 \n",
      " dense_3_mitbih (Dense)      (None, 5)                 325       \n",
      "                                                                 \n",
      "=================================================================\n",
      "Total params: 254901 (995.71 KB)\n",
      "Trainable params: 254901 (995.71 KB)\n",
      "Non-trainable params: 0 (0.00 Byte)\n",
      "_________________________________________________________________\n",
      "Epoch 1/100\n"
     ]
    },
    {
     "name": "stderr",
     "output_type": "stream",
     "text": [
      "2024-11-20 06:42:02.971867: I tensorflow/compiler/xla/stream_executor/cuda/cuda_dnn.cc:432] Loaded cuDNN version 8600\n",
      "2024-11-20 06:42:03.825005: I tensorflow/compiler/xla/service/service.cc:168] XLA service 0x5622b5b43c90 initialized for platform CUDA (this does not guarantee that XLA will be used). Devices:\n",
      "2024-11-20 06:42:03.825093: I tensorflow/compiler/xla/service/service.cc:176]   StreamExecutor device (0): NVIDIA GeForce RTX 2080 Ti, Compute Capability 7.5\n",
      "2024-11-20 06:42:03.844260: I tensorflow/compiler/mlir/tensorflow/utils/dump_mlir_util.cc:255] disabling MLIR crash reproducer, set env var `MLIR_CRASH_REPRODUCER_DIRECTORY` to enable.\n",
      "2024-11-20 06:42:04.040161: I ./tensorflow/compiler/jit/device_compiler.h:186] Compiled cluster using XLA!  This line is logged at most once for the lifetime of the process.\n"
     ]
    },
    {
     "name": "stdout",
     "output_type": "stream",
     "text": [
      "\n",
      "Epoch 1: val_acc improved from -inf to 0.93444, saving model to baseline_cnn_mitbih.x\n",
      "INFO:tensorflow:Assets written to: baseline_cnn_mitbih.x/assets\n"
     ]
    },
    {
     "name": "stderr",
     "output_type": "stream",
     "text": [
      "INFO:tensorflow:Assets written to: baseline_cnn_mitbih.x/assets\n"
     ]
    },
    {
     "name": "stdout",
     "output_type": "stream",
     "text": [
      "Epoch 2/100\n",
      "\n",
      "Epoch 2: val_acc improved from 0.93444 to 0.95934, saving model to baseline_cnn_mitbih.x\n",
      "INFO:tensorflow:Assets written to: baseline_cnn_mitbih.x/assets\n"
     ]
    },
    {
     "name": "stderr",
     "output_type": "stream",
     "text": [
      "INFO:tensorflow:Assets written to: baseline_cnn_mitbih.x/assets\n"
     ]
    },
    {
     "name": "stdout",
     "output_type": "stream",
     "text": [
      "Epoch 3/100\n",
      "\n",
      "Epoch 3: val_acc improved from 0.95934 to 0.96905, saving model to baseline_cnn_mitbih.x\n",
      "INFO:tensorflow:Assets written to: baseline_cnn_mitbih.x/assets\n"
     ]
    },
    {
     "name": "stderr",
     "output_type": "stream",
     "text": [
      "INFO:tensorflow:Assets written to: baseline_cnn_mitbih.x/assets\n"
     ]
    },
    {
     "name": "stdout",
     "output_type": "stream",
     "text": [
      "Epoch 4/100\n",
      "\n",
      "Epoch 4: val_acc improved from 0.96905 to 0.97259, saving model to baseline_cnn_mitbih.x\n",
      "INFO:tensorflow:Assets written to: baseline_cnn_mitbih.x/assets\n"
     ]
    },
    {
     "name": "stderr",
     "output_type": "stream",
     "text": [
      "INFO:tensorflow:Assets written to: baseline_cnn_mitbih.x/assets\n"
     ]
    },
    {
     "name": "stdout",
     "output_type": "stream",
     "text": [
      "Epoch 5/100\n",
      "\n",
      "Epoch 5: val_acc did not improve from 0.97259\n",
      "Epoch 6/100\n",
      "\n",
      "Epoch 6: val_acc improved from 0.97259 to 0.97499, saving model to baseline_cnn_mitbih.x\n",
      "INFO:tensorflow:Assets written to: baseline_cnn_mitbih.x/assets\n"
     ]
    },
    {
     "name": "stderr",
     "output_type": "stream",
     "text": [
      "INFO:tensorflow:Assets written to: baseline_cnn_mitbih.x/assets\n"
     ]
    },
    {
     "name": "stdout",
     "output_type": "stream",
     "text": [
      "Epoch 7/100\n",
      "\n",
      "Epoch 7: val_acc improved from 0.97499 to 0.97944, saving model to baseline_cnn_mitbih.x\n",
      "INFO:tensorflow:Assets written to: baseline_cnn_mitbih.x/assets\n"
     ]
    },
    {
     "name": "stderr",
     "output_type": "stream",
     "text": [
      "INFO:tensorflow:Assets written to: baseline_cnn_mitbih.x/assets\n"
     ]
    },
    {
     "name": "stdout",
     "output_type": "stream",
     "text": [
      "Epoch 8/100\n",
      "\n",
      "Epoch 8: val_acc did not improve from 0.97944\n",
      "Epoch 9/100\n",
      "\n",
      "Epoch 9: val_acc improved from 0.97944 to 0.97967, saving model to baseline_cnn_mitbih.x\n",
      "INFO:tensorflow:Assets written to: baseline_cnn_mitbih.x/assets\n"
     ]
    },
    {
     "name": "stderr",
     "output_type": "stream",
     "text": [
      "INFO:tensorflow:Assets written to: baseline_cnn_mitbih.x/assets\n"
     ]
    },
    {
     "name": "stdout",
     "output_type": "stream",
     "text": [
      "Epoch 10/100\n",
      "\n",
      "Epoch 10: val_acc improved from 0.97967 to 0.98333, saving model to baseline_cnn_mitbih.x\n",
      "INFO:tensorflow:Assets written to: baseline_cnn_mitbih.x/assets\n"
     ]
    },
    {
     "name": "stderr",
     "output_type": "stream",
     "text": [
      "INFO:tensorflow:Assets written to: baseline_cnn_mitbih.x/assets\n"
     ]
    },
    {
     "name": "stdout",
     "output_type": "stream",
     "text": [
      "Epoch 11/100\n",
      "\n",
      "Epoch 11: val_acc improved from 0.98333 to 0.98344, saving model to baseline_cnn_mitbih.x\n",
      "INFO:tensorflow:Assets written to: baseline_cnn_mitbih.x/assets\n"
     ]
    },
    {
     "name": "stderr",
     "output_type": "stream",
     "text": [
      "INFO:tensorflow:Assets written to: baseline_cnn_mitbih.x/assets\n"
     ]
    },
    {
     "name": "stdout",
     "output_type": "stream",
     "text": [
      "Epoch 12/100\n",
      "\n",
      "Epoch 16: val_acc did not improve from 0.98538\n",
      "Epoch 17/100\n",
      "\n",
      "Epoch 17: val_acc did not improve from 0.98538\n",
      "Epoch 18/100\n",
      "\n",
      "Epoch 18: val_acc improved from 0.98538 to 0.98607, saving model to baseline_cnn_mitbih.x\n",
      "INFO:tensorflow:Assets written to: baseline_cnn_mitbih.x/assets\n"
     ]
    },
    {
     "name": "stderr",
     "output_type": "stream",
     "text": [
      "INFO:tensorflow:Assets written to: baseline_cnn_mitbih.x/assets\n"
     ]
    },
    {
     "name": "stdout",
     "output_type": "stream",
     "text": [
      "Epoch 19/100\n",
      "\n",
      "Epoch 23: val_acc improved from 0.98664 to 0.98698, saving model to baseline_cnn_mitbih.x\n",
      "INFO:tensorflow:Assets written to: baseline_cnn_mitbih.x/assets\n"
     ]
    },
    {
     "name": "stderr",
     "output_type": "stream",
     "text": [
      "INFO:tensorflow:Assets written to: baseline_cnn_mitbih.x/assets\n"
     ]
    },
    {
     "name": "stdout",
     "output_type": "stream",
     "text": [
      "Epoch 24/100\n",
      "\n",
      "Epoch 24: val_acc did not improve from 0.98698\n",
      "Epoch 25/100\n",
      "\n",
      "Epoch 25: val_acc did not improve from 0.98698\n",
      "Epoch 26/100\n",
      "\n",
      "Epoch 26: val_acc did not improve from 0.98698\n",
      "\n",
      "Epoch 26: ReduceLROnPlateau reducing learning rate to 0.00010000000474974513.\n",
      "Epoch 27/100\n",
      "\n",
      "Epoch 27: val_acc improved from 0.98698 to 0.98881, saving model to baseline_cnn_mitbih.x\n",
      "INFO:tensorflow:Assets written to: baseline_cnn_mitbih.x/assets\n"
     ]
    },
    {
     "name": "stderr",
     "output_type": "stream",
     "text": [
      "INFO:tensorflow:Assets written to: baseline_cnn_mitbih.x/assets\n"
     ]
    },
    {
     "name": "stdout",
     "output_type": "stream",
     "text": [
      "Epoch 28/100\n",
      "\n",
      "Epoch 31: val_acc did not improve from 0.98881\n",
      "Epoch 32/100\n",
      "\n",
      "Epoch 32: val_acc did not improve from 0.98881\n",
      "Epoch 32: early stopping\n"
     ]
    },
    {
     "name": "stderr",
     "output_type": "stream",
     "text": [
      "2024-11-20 07:00:26.552306: W tensorflow/core/util/tensor_slice_reader.cc:97] Could not open baseline_cnn_mitbih.x: DATA_LOSS: file is too short to be an sstable: perhaps your file is in a different file format and you need to use a different restore operator?\n"
     ]
    },
    {
     "data": {
      "text/plain": [
       "<tensorflow.python.checkpoint.checkpoint.CheckpointLoadStatus at 0x7fcd8c9c6a30>"
      ]
     },
     "execution_count": 6,
     "metadata": {},
     "output_type": "execute_result"
    }
   ],
   "source": [
    "model = get_model()\n",
    "file_path = \"baseline_cnn_mitbih.x\"\n",
    "checkpoint = ModelCheckpoint(file_path, monitor='val_acc', verbose=1, save_best_only=True, mode='max')\n",
    "early = EarlyStopping(monitor=\"val_acc\", mode=\"max\", patience=5, verbose=1)\n",
    "redonplat = ReduceLROnPlateau(monitor=\"val_acc\", mode=\"max\", patience=3, verbose=2)\n",
    "callbacks_list = [checkpoint, early, redonplat]  # early\n",
    "\n",
    "model.fit(X, Y, epochs=10, verbose=5, callbacks=callbacks_list, validation_split=0.1)\n",
    "model.load_weights(file_path)"
   ]
  },
  {
   "cell_type": "code",
   "execution_count": 13,
   "id": "4ce842f6-6b11-453d-ac44-ef1ce00fade1",
   "metadata": {},
   "outputs": [
    {
     "name": "stdout",
     "output_type": "stream",
     "text": [
      "685/685 [==============================] - 4s 5ms/step\n",
      "Test f1 score : 0.9174768318075499 \n",
      "Test accuracy score : 0.9854284670199159 \n"
     ]
    }
   ],
   "source": [
    "pred_test = model.predict(X_test)\n",
    "pred_test = np.argmax(pred_test, axis=-1)\n",
    "\n",
    "f1 = f1_score(Y_test, pred_test, average=\"macro\")\n",
    "\n",
    "print(\"Test f1 score : %s \"% f1)\n",
    "\n",
    "acc = accuracy_score(Y_test, pred_test)\n",
    "\n",
    "print(\"Test accuracy score : %s \"% acc)"
   ]
  },
  {
   "cell_type": "code",
   "execution_count": 14,
   "id": "d7a4f328",
   "metadata": {
    "collapsed": true,
    "jupyter": {
     "outputs_hidden": true
    }
   },
   "outputs": [
    {
     "name": "stdout",
     "output_type": "stream",
     "text": [
      "Defaulting to user installation because normal site-packages is not writeable\n",
      "Collecting grad-cam\n",
      "  Downloading grad-cam-1.5.4.tar.gz (7.8 MB)\n",
      "\u001b[K     |████████████████████████████████| 7.8 MB 8.8 MB/s eta 0:00:01\n",
      "\u001b[?25h  Installing build dependencies ... \u001b[?25ldone\n",
      "\u001b[?25h  Getting requirements to build wheel ... \u001b[?25ldone\n",
      "\u001b[?25h    Preparing wheel metadata ... \u001b[?25ldone\n",
      "\u001b[?25hRequirement already satisfied: opencv-python in /opt/conda/lib/python3.9/site-packages (from grad-cam) (4.9.0.80)\n",
      "Requirement already satisfied: torch>=1.7.1 in /opt/conda/lib/python3.9/site-packages (from grad-cam) (2.1.2+cu118)\n",
      "Requirement already satisfied: matplotlib in /opt/conda/lib/python3.9/site-packages (from grad-cam) (3.4.2)\n",
      "Requirement already satisfied: tqdm in /opt/conda/lib/python3.9/site-packages (from grad-cam) (4.66.2)\n",
      "Requirement already satisfied: scikit-learn in /home/rmanatkar/.local/lib/python3.9/site-packages (from grad-cam) (1.4.2)\n",
      "Requirement already satisfied: Pillow in /opt/conda/lib/python3.9/site-packages (from grad-cam) (10.2.0)\n",
      "Requirement already satisfied: torchvision>=0.8.2 in /opt/conda/lib/python3.9/site-packages (from grad-cam) (0.16.2+cu118)\n",
      "Requirement already satisfied: numpy in /opt/conda/lib/python3.9/site-packages (from grad-cam) (1.22.4)\n",
      "Collecting ttach\n",
      "  Downloading ttach-0.0.3-py3-none-any.whl (9.8 kB)\n",
      "Requirement already satisfied: triton==2.1.0 in /opt/conda/lib/python3.9/site-packages (from torch>=1.7.1->grad-cam) (2.1.0)\n",
      "Requirement already satisfied: sympy in /opt/conda/lib/python3.9/site-packages (from torch>=1.7.1->grad-cam) (1.8)\n",
      "Requirement already satisfied: jinja2 in /opt/conda/lib/python3.9/site-packages (from torch>=1.7.1->grad-cam) (3.0.1)\n",
      "Requirement already satisfied: typing-extensions in /opt/conda/lib/python3.9/site-packages (from torch>=1.7.1->grad-cam) (4.5.0)\n",
      "Requirement already satisfied: networkx in /opt/conda/lib/python3.9/site-packages (from torch>=1.7.1->grad-cam) (2.5)\n",
      "Requirement already satisfied: filelock in /opt/conda/lib/python3.9/site-packages (from torch>=1.7.1->grad-cam) (3.9.0)\n",
      "Requirement already satisfied: fsspec in /opt/conda/lib/python3.9/site-packages (from torch>=1.7.1->grad-cam) (2024.2.0)\n",
      "Requirement already satisfied: requests in /opt/conda/lib/python3.9/site-packages (from torchvision>=0.8.2->grad-cam) (2.26.0)\n",
      "Requirement already satisfied: MarkupSafe>=2.0 in /opt/conda/lib/python3.9/site-packages (from jinja2->torch>=1.7.1->grad-cam) (2.1.5)\n",
      "Requirement already satisfied: python-dateutil>=2.7 in /opt/conda/lib/python3.9/site-packages (from matplotlib->grad-cam) (2.8.2)\n",
      "Requirement already satisfied: pyparsing>=2.2.1 in /opt/conda/lib/python3.9/site-packages (from matplotlib->grad-cam) (2.4.7)\n",
      "Requirement already satisfied: kiwisolver>=1.0.1 in /opt/conda/lib/python3.9/site-packages (from matplotlib->grad-cam) (1.3.1)\n",
      "Requirement already satisfied: cycler>=0.10 in /opt/conda/lib/python3.9/site-packages (from matplotlib->grad-cam) (0.10.0)\n",
      "Requirement already satisfied: six in /opt/conda/lib/python3.9/site-packages (from cycler>=0.10->matplotlib->grad-cam) (1.16.0)\n",
      "Requirement already satisfied: decorator>=4.3.0 in /opt/conda/lib/python3.9/site-packages (from networkx->torch>=1.7.1->grad-cam) (5.0.9)\n",
      "Requirement already satisfied: certifi>=2017.4.17 in /opt/conda/lib/python3.9/site-packages (from requests->torchvision>=0.8.2->grad-cam) (2024.2.2)\n",
      "Requirement already satisfied: urllib3<1.27,>=1.21.1 in /opt/conda/lib/python3.9/site-packages (from requests->torchvision>=0.8.2->grad-cam) (1.26.6)\n",
      "Requirement already satisfied: idna<4,>=2.5 in /opt/conda/lib/python3.9/site-packages (from requests->torchvision>=0.8.2->grad-cam) (3.1)\n",
      "Requirement already satisfied: charset-normalizer~=2.0.0 in /opt/conda/lib/python3.9/site-packages (from requests->torchvision>=0.8.2->grad-cam) (2.0.0)\n",
      "Requirement already satisfied: joblib>=1.2.0 in /home/rmanatkar/.local/lib/python3.9/site-packages (from scikit-learn->grad-cam) (1.4.0)\n",
      "Requirement already satisfied: threadpoolctl>=2.0.0 in /opt/conda/lib/python3.9/site-packages (from scikit-learn->grad-cam) (2.2.0)\n",
      "Requirement already satisfied: scipy>=1.6.0 in /opt/conda/lib/python3.9/site-packages (from scikit-learn->grad-cam) (1.7.0)\n",
      "Requirement already satisfied: mpmath>=0.19 in /opt/conda/lib/python3.9/site-packages (from sympy->torch>=1.7.1->grad-cam) (1.2.1)\n",
      "Building wheels for collected packages: grad-cam\n",
      "  Building wheel for grad-cam (PEP 517) ... \u001b[?25ldone\n",
      "\u001b[?25h  Created wheel for grad-cam: filename=grad_cam-1.5.4-py3-none-any.whl size=39588 sha256=90de284538bf291be40d1f59bf59ef8bb7c7fda7be2447f83ef88f643533ce89\n",
      "  Stored in directory: /tmp/pip-ephem-wheel-cache-pcl5z3t_/wheels/df/fc/80/a9734b773e25e18fff0762007a04fd1153e52f265e6b912e2c\n",
      "Successfully built grad-cam\n",
      "Installing collected packages: ttach, grad-cam\n",
      "Successfully installed grad-cam-1.5.4 ttach-0.0.3\n"
     ]
    }
   ],
   "source": [
    "! pip install --no-cache-dir grad-cam"
   ]
  },
  {
   "cell_type": "code",
   "execution_count": 20,
   "id": "76025ab9",
   "metadata": {},
   "outputs": [
    {
     "data": {
      "text/plain": [
       "<keras.src.layers.pooling.global_max_pooling1d.GlobalMaxPooling1D at 0x7ff6fa028c40>"
      ]
     },
     "execution_count": 20,
     "metadata": {},
     "output_type": "execute_result"
    }
   ],
   "source": [
    "model.layers[-5]"
   ]
  },
  {
   "cell_type": "code",
   "execution_count": 25,
   "id": "28a48ea6",
   "metadata": {},
   "outputs": [],
   "source": [
    "import tensorflow as tf\n",
    "def reset_tf_session():\n",
    "    \"\"\"Clears the TensorFlow session and graph to avoid variable reuse issues.\"\"\"\n",
    "    tf.keras.backend.clear_session()\n",
    "    tf.compat.v1.reset_default_graph()\n",
    "\n",
    "# reset_tf_session()"
   ]
  },
  {
   "cell_type": "code",
   "execution_count": 35,
   "id": "007dfa5f",
   "metadata": {},
   "outputs": [],
   "source": [
    "reset_tf_session()"
   ]
  },
  {
   "cell_type": "code",
   "execution_count": 36,
   "id": "983fce59",
   "metadata": {},
   "outputs": [],
   "source": [
    "import keras\n",
    "import tensorflow as tf\n",
    "grad_model = keras.models.Model(\n",
    "        model.inputs, [model.get_layer('conv1d_15').output, model.output]\n",
    "    )"
   ]
  },
  {
   "cell_type": "code",
   "execution_count": 69,
   "id": "82d00972",
   "metadata": {},
   "outputs": [],
   "source": [
    "pred_index = None\n",
    "with tf.GradientTape() as tape:\n",
    "        last_conv_layer_output, preds = grad_model(np.array([X_test[0]]))\n",
    "        if pred_index is None:\n",
    "            pred_index = tf.argmax(preds[0])\n",
    "        class_channel = preds[:, pred_index]"
   ]
  },
  {
   "cell_type": "code",
   "execution_count": 70,
   "id": "ab0ffeba",
   "metadata": {},
   "outputs": [],
   "source": [
    "grads = tape.gradient(class_channel, last_conv_layer_output)"
   ]
  },
  {
   "cell_type": "code",
   "execution_count": 71,
   "id": "524fb1bd",
   "metadata": {},
   "outputs": [
    {
     "data": {
      "text/plain": [
       "<tf.Tensor: shape=(1, 15, 256), dtype=float32, numpy=\n",
       "array([[[ 3.8206722e-06,  0.0000000e+00, -3.0422807e-08, ...,\n",
       "         -0.0000000e+00,  8.6786081e-08,  1.3684684e-07],\n",
       "        [ 0.0000000e+00,  0.0000000e+00, -3.0422807e-08, ...,\n",
       "         -0.0000000e+00,  8.6786081e-08,  1.3684684e-07],\n",
       "        [ 0.0000000e+00,  0.0000000e+00, -3.0422807e-08, ...,\n",
       "         -0.0000000e+00,  8.6786081e-08,  1.3684684e-07],\n",
       "        ...,\n",
       "        [ 0.0000000e+00,  0.0000000e+00, -3.0422807e-08, ...,\n",
       "         -0.0000000e+00,  8.6786081e-08,  1.3684684e-07],\n",
       "        [ 0.0000000e+00,  0.0000000e+00, -3.0422807e-08, ...,\n",
       "         -0.0000000e+00,  8.6786081e-08,  1.3684684e-07],\n",
       "        [ 0.0000000e+00,  3.5139419e-06, -3.0422807e-08, ...,\n",
       "         -0.0000000e+00,  8.6786081e-08,  1.3684684e-07]]], dtype=float32)>"
      ]
     },
     "execution_count": 71,
     "metadata": {},
     "output_type": "execute_result"
    }
   ],
   "source": [
    "grads"
   ]
  },
  {
   "cell_type": "code",
   "execution_count": 81,
   "id": "7b9a003d",
   "metadata": {},
   "outputs": [
    {
     "data": {
      "text/plain": [
       "<tf.Tensor: shape=(256,), dtype=float32, numpy=\n",
       "array([ 2.54711466e-07,  2.34262799e-07, -3.04228038e-08, -1.83594054e-07,\n",
       "       -4.59601566e-08, -7.32743615e-07,  2.49191814e-08, -2.08614974e-08,\n",
       "        2.63464717e-08, -1.57179329e-07,  2.68232242e-07, -1.51662993e-09,\n",
       "        8.57603979e-08,  2.08505540e-07,  1.39860560e-07, -8.44679278e-08,\n",
       "        9.93112614e-09, -4.95872285e-08, -9.71824718e-08, -2.28189649e-07,\n",
       "        6.58901342e-08,  2.62415512e-07, -2.41772593e-08, -6.76721479e-09,\n",
       "       -8.43691481e-08,  3.92357151e-08, -1.81301672e-07,  1.99568163e-07,\n",
       "        1.03927293e-08, -1.25934427e-08, -2.25237056e-08,  9.34824040e-09,\n",
       "        2.75266832e-08, -2.05984620e-07, -9.04258624e-09,  2.75550729e-08,\n",
       "        1.26805872e-07, -1.65836724e-07,  3.60927821e-08,  1.39970282e-07,\n",
       "       -9.64876623e-10,  1.07277041e-08, -6.50897647e-08, -3.78468002e-07,\n",
       "        1.60437580e-07,  2.84290451e-07,  3.41342201e-07, -6.25155181e-08,\n",
       "        6.42574420e-08, -2.76821510e-07,  1.87377680e-07, -1.41047877e-07,\n",
       "        9.48965280e-08,  1.01413804e-07,  1.72986674e-07,  1.22717418e-08,\n",
       "       -7.81215377e-08, -1.84548234e-08, -9.31271005e-10,  6.48870540e-08,\n",
       "       -7.88121142e-08,  1.06214749e-07, -5.16692289e-08,  2.89242426e-08,\n",
       "        5.98268457e-08,  1.71453181e-07,  3.12174087e-09, -1.26989619e-07,\n",
       "        1.71531184e-07, -1.97229291e-08, -7.25163645e-08, -6.30242383e-08,\n",
       "       -1.18872387e-08, -3.14590238e-07,  9.57219797e-08, -3.12116612e-07,\n",
       "        7.10942842e-08,  7.26497404e-08,  3.30632247e-07,  7.68221042e-08,\n",
       "        1.41171327e-07,  1.06719833e-08,  1.70278270e-07, -1.53047125e-07,\n",
       "        2.45134515e-07,  2.06086185e-07, -9.20490635e-08, -2.48785987e-08,\n",
       "        9.31737389e-08,  5.36796279e-08,  2.23652307e-07, -7.02689391e-08,\n",
       "       -1.53329736e-07,  3.35468258e-08,  2.77284300e-07, -4.08812149e-08,\n",
       "       -7.84115457e-08,  1.87991503e-07,  1.35695672e-07, -3.35993576e-07,\n",
       "       -8.25486737e-08,  1.97732192e-07, -5.73766563e-08, -5.13680938e-08,\n",
       "       -3.54430398e-07,  4.68369521e-08, -2.40733868e-07, -4.42962687e-07,\n",
       "        1.88586373e-08, -2.27407746e-08,  1.92524013e-07,  1.88029446e-07,\n",
       "        8.40535086e-10, -8.05029856e-08, -2.81379471e-07,  1.85285373e-07,\n",
       "       -3.64774486e-08, -1.58585536e-07,  6.35932835e-08,  2.00799533e-07,\n",
       "       -1.76690556e-08,  2.68387907e-07,  4.84304996e-09,  1.51538615e-07,\n",
       "       -3.85394401e-07,  1.12665433e-11, -6.07296329e-08,  1.08348765e-07,\n",
       "       -5.68534290e-07,  1.02905467e-07,  4.65921772e-08,  1.57354265e-07,\n",
       "       -4.92633205e-07, -4.17064072e-08,  9.13494915e-08, -2.09128615e-07,\n",
       "        3.16261364e-08,  1.48901762e-07,  1.60184996e-07, -1.72245350e-07,\n",
       "       -7.45668629e-08, -7.82596317e-08,  1.35861228e-07, -1.77872757e-08,\n",
       "       -1.75827367e-07, -8.88487861e-08,  1.58778590e-07,  1.84136965e-07,\n",
       "       -2.59591133e-07,  1.98156215e-07, -1.62940736e-07, -2.42344129e-07,\n",
       "        2.37506356e-07,  3.72368518e-08, -9.33031430e-08,  1.21047677e-07,\n",
       "       -6.35216622e-07, -3.13049583e-07,  1.47592885e-07,  1.76511215e-08,\n",
       "       -4.53302285e-08, -1.45293102e-08,  2.75160730e-08, -9.97112295e-08,\n",
       "       -2.03907803e-07,  2.20424553e-07,  2.05979106e-07, -2.17666624e-07,\n",
       "        5.38411200e-08, -3.02888253e-07,  2.68094198e-07, -4.45563813e-07,\n",
       "       -2.34956232e-07, -2.59065757e-07,  5.19274543e-08,  5.86774931e-08,\n",
       "       -8.24213942e-08, -1.85429144e-07,  8.99862940e-08, -1.88767146e-07,\n",
       "        4.36066516e-09,  8.14929209e-08,  3.06021839e-08,  5.53539934e-08,\n",
       "       -9.05387125e-08, -1.62626904e-07, -2.02245261e-07,  8.74116868e-09,\n",
       "        1.37975832e-07, -1.28448875e-07,  3.48052467e-08, -3.50541356e-08,\n",
       "        1.47547681e-07, -1.65481691e-08, -2.74830381e-09,  1.36861033e-07,\n",
       "       -5.32172294e-07,  4.12120585e-07,  1.01358943e-07, -4.75269353e-08,\n",
       "        2.92743287e-08,  2.89143731e-08, -4.54515913e-07, -2.09531194e-07,\n",
       "        2.79596406e-07,  4.12276115e-08,  1.69153765e-07, -1.42497558e-09,\n",
       "       -6.26617350e-07, -8.20640551e-08, -1.29637570e-07, -2.98454736e-08,\n",
       "        4.11262135e-08,  9.72491634e-08, -4.01990968e-10, -2.97760536e-08,\n",
       "        1.86450933e-07, -2.44419240e-08,  1.51597220e-07,  1.93771470e-07,\n",
       "        2.82462285e-08,  1.13002031e-07, -3.98511133e-07, -4.05795504e-07,\n",
       "        2.34625446e-07,  1.71323762e-07,  1.28473417e-07, -1.02893324e-07,\n",
       "        1.42152118e-07,  4.07175760e-09, -6.32110613e-08,  1.52625972e-07,\n",
       "       -2.01208820e-07, -1.01798044e-07, -3.42215358e-08,  4.82741029e-08,\n",
       "       -9.26135755e-08,  7.62828449e-08,  7.53159313e-08, -1.88248550e-09,\n",
       "       -1.50312857e-07, -2.00216633e-07, -4.35087742e-07,  2.47027373e-07,\n",
       "       -7.26272873e-08,  1.79376869e-07,  3.68969992e-08, -3.14948181e-07,\n",
       "        1.79859754e-07, -2.06626964e-07,  3.76901426e-08,  1.61633523e-07,\n",
       "        1.14544349e-07, -5.75582590e-07,  8.67860663e-08,  1.36846865e-07],\n",
       "      dtype=float32)>"
      ]
     },
     "execution_count": 81,
     "metadata": {},
     "output_type": "execute_result"
    }
   ],
   "source": [
    "pooled_grads = tf.reduce_mean(grads, axis=(0, 1))\n",
    "pooled_grads"
   ]
  },
  {
   "cell_type": "code",
   "execution_count": 74,
   "id": "b27edcdd",
   "metadata": {},
   "outputs": [
    {
     "data": {
      "text/plain": [
       "<tf.Tensor: shape=(15, 256), dtype=float32, numpy=\n",
       "array([[5.014629  , 0.        , 0.        , ..., 0.        , 0.        ,\n",
       "        0.        ],\n",
       "       [0.        , 0.06733611, 0.        , ..., 0.        , 0.        ,\n",
       "        0.        ],\n",
       "       [0.        , 0.        , 0.        , ..., 0.71259856, 0.        ,\n",
       "        0.        ],\n",
       "       ...,\n",
       "       [0.        , 0.32896602, 0.        , ..., 0.        , 0.        ,\n",
       "        0.        ],\n",
       "       [0.        , 1.7714306 , 0.        , ..., 0.        , 0.        ,\n",
       "        0.        ],\n",
       "       [0.        , 3.504332  , 0.        , ..., 0.        , 0.        ,\n",
       "        0.        ]], dtype=float32)>"
      ]
     },
     "execution_count": 74,
     "metadata": {},
     "output_type": "execute_result"
    }
   ],
   "source": [
    "last_conv_layer_output = last_conv_layer_output[0]"
   ]
  },
  {
   "cell_type": "code",
   "execution_count": 82,
   "id": "738aaf21",
   "metadata": {},
   "outputs": [],
   "source": [
    "heatmap = last_conv_layer_output @ pooled_grads[..., tf.newaxis]\n",
    "heatmap = tf.squeeze(heatmap)"
   ]
  },
  {
   "cell_type": "code",
   "execution_count": 83,
   "id": "0fc6388a",
   "metadata": {},
   "outputs": [
    {
     "data": {
      "text/plain": [
       "TensorShape([15])"
      ]
     },
     "execution_count": 83,
     "metadata": {},
     "output_type": "execute_result"
    }
   ],
   "source": [
    "heatmap.shape"
   ]
  },
  {
   "cell_type": "code",
   "execution_count": 84,
   "id": "2efd2b81",
   "metadata": {},
   "outputs": [],
   "source": [
    "heatmap = tf.maximum(heatmap, 0) / tf.math.reduce_max(heatmap)"
   ]
  },
  {
   "cell_type": "code",
   "execution_count": 85,
   "id": "2f0d5d29",
   "metadata": {},
   "outputs": [
    {
     "data": {
      "text/plain": [
       "TensorShape([15])"
      ]
     },
     "execution_count": 85,
     "metadata": {},
     "output_type": "execute_result"
    }
   ],
   "source": [
    "heatmap.shape"
   ]
  },
  {
   "cell_type": "code",
   "execution_count": 86,
   "id": "8a7be3ac",
   "metadata": {},
   "outputs": [
    {
     "data": {
      "text/plain": [
       "<tf.Tensor: shape=(15,), dtype=float32, numpy=\n",
       "array([1.        , 0.07711695, 0.01491676, 0.06016807, 0.10389279,\n",
       "       0.03739358, 0.        , 0.069328  , 0.34284425, 0.19127893,\n",
       "       0.01323316, 0.00665802, 0.00786345, 0.14944726, 0.26384768],\n",
       "      dtype=float32)>"
      ]
     },
     "execution_count": 86,
     "metadata": {},
     "output_type": "execute_result"
    }
   ],
   "source": [
    "heatmap"
   ]
  },
  {
   "cell_type": "code",
   "execution_count": 105,
   "id": "de1881f9",
   "metadata": {},
   "outputs": [],
   "source": [
    "def make_gradcam_heatmap_1d(array_1d, model, last_conv_layer_name, pred_index=None):\n",
    "    # Create a model mapping the input 1D array to the activations of the last conv layer\n",
    "    # and the output predictions\n",
    "    grad_model = keras.models.Model(\n",
    "        model.inputs, [model.get_layer(last_conv_layer_name).output, model.output]\n",
    "    )\n",
    "\n",
    "    # Compute the gradient of the top predicted class with respect to the activations\n",
    "    with tf.GradientTape() as tape:\n",
    "        last_conv_layer_output, preds = grad_model(array_1d)\n",
    "        if pred_index is None:\n",
    "            pred_index = tf.argmax(preds[0])\n",
    "        class_channel = preds[:, pred_index]\n",
    "\n",
    "    # Compute gradients of the class channel with respect to the feature map\n",
    "    grads = tape.gradient(class_channel, last_conv_layer_output)\n",
    "\n",
    "    # Compute channel-wise mean of the gradients (only over the channel axis)\n",
    "    pooled_grads = tf.reduce_mean(grads, axis=0)\n",
    "\n",
    "    # Multiply each channel by the corresponding pooled gradient value\n",
    "    last_conv_layer_output = last_conv_layer_output[0]\n",
    "    heatmap = tf.reduce_sum(last_conv_layer_output * pooled_grads, axis=-1)\n",
    "\n",
    "    # Normalize the heatmap to the range [0, 1]\n",
    "    heatmap = tf.maximum(heatmap, 0) / tf.math.reduce_max(heatmap)\n",
    "    return heatmap.numpy()\n",
    "\n",
    "res = make_gradcam_heatmap_1d(np.array([X_test[6]]), model, 'conv1d_15')"
   ]
  },
  {
   "cell_type": "code",
   "execution_count": 90,
   "id": "78213339",
   "metadata": {},
   "outputs": [
    {
     "data": {
      "text/plain": [
       "(15,)"
      ]
     },
     "execution_count": 90,
     "metadata": {},
     "output_type": "execute_result"
    }
   ],
   "source": [
    "res.shape"
   ]
  },
  {
   "cell_type": "code",
   "execution_count": 91,
   "id": "bb7eeb3b",
   "metadata": {
    "collapsed": true,
    "jupyter": {
     "outputs_hidden": true
    }
   },
   "outputs": [
    {
     "data": {
      "text/plain": [
       "<matplotlib.legend.Legend at 0x7fcc805a31c0>"
      ]
     },
     "execution_count": 91,
     "metadata": {},
     "output_type": "execute_result"
    },
    {
     "data": {
      "image/png": "[encoded data removed]",
      "text/plain": [
       "<Figure size 720x288 with 1 Axes>"
      ]
     },
     "metadata": {
      "needs_background": "light"
     },
     "output_type": "display_data"
    }
   ],
   "source": [
    "import matplotlib.pyplot as plt\n",
    "res = (res - np.min(res)) / (np.max(res) - np.min(res))\n",
    "\n",
    "# Create a time axis for the heatmap\n",
    "time_axis = np.linspace(0, 187, len(res))\n",
    "\n",
    "# Plot the heatmap as a time series\n",
    "plt.figure(figsize=(10, 4))\n",
    "plt.plot(time_axis, res, label=\"Grad-CAM Heatmap\", color=\"red\")\n",
    "plt.title(\"Grad-CAM Heatmap for 1D Time Series\")\n",
    "plt.xlabel(\"Time\")\n",
    "plt.ylabel(\"Heatmap Intensity\")\n",
    "plt.grid(True)\n",
    "plt.legend()"
   ]
  },
  {
   "cell_type": "code",
   "execution_count": 106,
   "id": "b11a5c6d",
   "metadata": {},
   "outputs": [
    {
     "data": {
      "image/png": "[encoded data removed]",
      "text/plain": [
       "<Figure size 720x288 with 2 Axes>"
      ]
     },
     "metadata": {
      "needs_background": "light"
     },
     "output_type": "display_data"
    }
   ],
   "source": [
    "import matplotlib.pyplot as plt\n",
    "import numpy as np\n",
    "\n",
    "def save_and_display_gradcam_timeseries(input_series, heatmap):\n",
    "    # Ensure heatmap is normalized between 0 and 1\n",
    "    heatmap = (heatmap - np.min(heatmap)) / (np.max(heatmap) - np.min(heatmap))\n",
    "    heatmap_interpolated = np.interp(np.linspace(0, len(heatmap)-1, len(input_series)),\n",
    "                                     np.arange(len(heatmap)), heatmap)\n",
    "\n",
    "    cmap = plt.cm.jet\n",
    "    heatmap_colors = cmap(heatmap_interpolated)\n",
    "\n",
    "    fig, ax = plt.subplots(figsize=(10, 4))\n",
    "\n",
    "    ax.plot(input_series, color=\"black\", label=\"Input Time Series\", linewidth=1.5)\n",
    "\n",
    "    # Overlay the heatmap as a background\n",
    "    for i in range(len(input_series) - 1):\n",
    "        ax.plot(\n",
    "            [i, i + 1],\n",
    "            [input_series[i], input_series[i + 1]],\n",
    "            color=heatmap_colors[i],\n",
    "            alpha=0.4,\n",
    "            linewidth=4,\n",
    "        )\n",
    "\n",
    "    sm = plt.cm.ScalarMappable(cmap=cmap, norm=plt.Normalize(vmin=0, vmax=1))\n",
    "    cbar = plt.colorbar(sm, ax=ax, orientation=\"vertical\")\n",
    "    cbar.set_label(\"Grad-CAM Intensity\", fontsize=10)\n",
    "\n",
    "    ax.set_title(\"Grad-CAM Heatmap\", fontsize=14)\n",
    "    ax.set_xlabel(\"Time (s)\", fontsize=12)\n",
    "    ax.set_ylabel(\"Signal\", fontsize=12)\n",
    "    ax.legend()\n",
    "\n",
    "    # Save the plot\n",
    "    plt.tight_layout()\n",
    "#     plt.savefig(save_path)\n",
    "\n",
    "    # Display the plot\n",
    "    plt.show()\n",
    "\n",
    "# Example usage\n",
    "# input_series = np.sin(np.linspace(0, 10, 187))  # Example time series\n",
    "# heatmap = np.random.rand(187)  # Example Grad-CAM heatmap\n",
    "save_and_display_gradcam_timeseries(X_test[6], res)\n"
   ]
  },
  {
   "cell_type": "code",
   "execution_count": null,
   "id": "1ca70b1b",
   "metadata": {},
   "outputs": [],
   "source": []
  }
 ],
 "metadata": {
  "kernelspec": {
   "display_name": "Python 3 (ipykernel)",
   "language": "python",
   "name": "python3"
  },
  "language_info": {
   "codemirror_mode": {
    "name": "ipython",
    "version": 3
   },
   "file_extension": ".py",
   "mimetype": "text/x-python",
   "name": "python",
   "nbconvert_exporter": "python",
   "pygments_lexer": "ipython3",
   "version": "3.11.9"
  }
 },
 "nbformat": 4,
 "nbformat_minor": 5
}
